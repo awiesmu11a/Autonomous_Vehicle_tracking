{
 "cells": [
  {
   "cell_type": "code",
   "execution_count": 1,
   "metadata": {},
   "outputs": [
    {
     "name": "stdout",
     "output_type": "stream",
     "text": [
      "cpu\n"
     ]
    }
   ],
   "source": [
    "import os\n",
    "os.environ[\"CUDA_DEVICE_ORDER\"] = \"PCI_BUS_ID\"\n",
    "os.environ[\"CUDA_VISIBLE_DEVICES\"] = \"1\"\n",
    "\n",
    "import pickle\n",
    "from glob import glob\n",
    "import numpy as np\n",
    "import torch\n",
    "import torch.nn as nn\n",
    "import pandas as pd\n",
    "import time\n",
    "import matplotlib.pyplot as plt\n",
    "\n",
    "device = torch.device(\"cuda\" if torch.cuda.is_available() else \"cpu\")\n",
    "print(device)"
   ]
  },
  {
   "cell_type": "code",
   "execution_count": 2,
   "metadata": {},
   "outputs": [],
   "source": [
    "def LSTM_train_load(train_path, inp_len, indices, denormalize=False):\n",
    "    \n",
    "    pkl_list = glob(os.path.join(train_path, '*'))\n",
    "    pkl_list.sort()\n",
    "    \n",
    "    data = []\n",
    "    label = []\n",
    "\n",
    "    for i in indices:\n",
    "        with open(pkl_list[i], 'rb') as f:\n",
    "            scene = pickle.load(f)\n",
    "\n",
    "        min_vecs = scene['normalize_min']  \n",
    "        max_vecs = scene['normalize_max']\n",
    "\n",
    "        inp = scene['inp_scene'][:, :2]\n",
    "        out = scene['out_scene'][:, :2]\n",
    "\n",
    "        if denormalize:\n",
    "            inp = inp * (max_vecs[:2] - min_vecs[:2]) + min_vecs[:2]\n",
    "            out = out * (max_vecs[:2] - min_vecs[:2]) + min_vecs[:2]\n",
    "        \n",
    "        temp = np.concatenate((inp, out), axis=0)\n",
    "\n",
    "        for j in range(temp.shape[0] - inp_len - 1):\n",
    "            data.append(temp[j:j+inp_len])\n",
    "            label.append(temp[j+1:j+inp_len+1])\n",
    "\n",
    "    data = np.array(data)\n",
    "    label = np.array(label)\n",
    "\n",
    "    return data, label"
   ]
  },
  {
   "cell_type": "code",
   "execution_count": 9,
   "metadata": {},
   "outputs": [],
   "source": [
    "LSTM_path = \"./../data/prep_1/train\"\n",
    "# total number of scenes\n",
    "indices = np.arange(0, 205942)\n",
    "\n",
    "# train-valid split\n",
    "np.random.shuffle(indices)\n",
    "train_indices = indices[:1]\n",
    "input_len = 19\n",
    "\n",
    "# load data\n",
    "LSTM_data, LSTM_label = LSTM_train_load(LSTM_path, input_len, train_indices, denormalize=False)"
   ]
  },
  {
   "cell_type": "code",
   "execution_count": 10,
   "metadata": {},
   "outputs": [
    {
     "name": "stdout",
     "output_type": "stream",
     "text": [
      "(29, 19, 2)\n",
      "(29, 19, 2)\n"
     ]
    }
   ],
   "source": [
    "print(LSTM_data.shape)\n",
    "print(LSTM_label.shape)"
   ]
  },
  {
   "cell_type": "code",
   "execution_count": 11,
   "metadata": {},
   "outputs": [],
   "source": [
    "class baseline_LSTM(nn.Module):\n",
    "    def __init__(self, input_size, hidden_size, num_layers, output_size):\n",
    "        super(baseline_LSTM, self).__init__()\n",
    "        self.hidden_size = hidden_size\n",
    "        self.num_layers = num_layers\n",
    "\n",
    "        self.lstm = nn.LSTM(input_size, hidden_size, num_layers, batch_first=True)\n",
    "        self.fcn = [nn.Linear(hidden_size, hidden_size), nn.ReLU(), nn.Linear(hidden_size, output_size)]\n",
    "\n",
    "    def forward(self, x):\n",
    "        h0 = torch.zeros(self.num_layers, x.size(0), self.hidden_size).to(device) \n",
    "        c0 = torch.zeros(self.num_layers, x.size(0), self.hidden_size).to(device) \n",
    "        \n",
    "        out, _ = self.lstm(x, (h0, c0))\n",
    "        out = self.fcn[0](out)\n",
    "        out = self.fcn[1](out)\n",
    "        out = self.fcn[2](out)\n",
    "        return out"
   ]
  },
  {
   "cell_type": "code",
   "execution_count": 12,
   "metadata": {},
   "outputs": [],
   "source": [
    "# LSTM Hyperparameters\n",
    "input_size = 2\n",
    "hidden_size = 400\n",
    "num_layers = 10\n",
    "seq_len = input_len\n",
    "output_size = 2\n",
    "\n",
    "baseline = baseline_LSTM(input_size, hidden_size, num_layers, output_size).to(device)"
   ]
  },
  {
   "cell_type": "code",
   "execution_count": 19,
   "metadata": {},
   "outputs": [
    {
     "data": {
      "text/plain": [
       "<matplotlib.collections.PathCollection at 0x7f80152f6700>"
      ]
     },
     "execution_count": 19,
     "metadata": {},
     "output_type": "execute_result"
    },
    {
     "data": {
      "image/png": "[encoded data removed]",
      "text/plain": [
       "<Figure size 640x480 with 1 Axes>"
      ]
     },
     "metadata": {},
     "output_type": "display_data"
    }
   ],
   "source": [
    "plt.scatter(LSTM_data[0][:,0], LSTM_data[0][:,1], c='r')\n",
    "plt.scatter(LSTM_label[19][:,0], LSTM_label[19][:,1], c='b', s=5)"
   ]
  },
  {
   "cell_type": "code",
   "execution_count": null,
   "metadata": {},
   "outputs": [],
   "source": []
  }
 ],
 "metadata": {
  "kernelspec": {
   "display_name": "project",
   "language": "python",
   "name": "python3"
  },
  "language_info": {
   "codemirror_mode": {
    "name": "ipython",
    "version": 3
   },
   "file_extension": ".py",
   "mimetype": "text/x-python",
   "name": "python",
   "nbconvert_exporter": "python",
   "pygments_lexer": "ipython3",
   "version": "3.8.10"
  },
  "orig_nbformat": 4
 },
 "nbformat": 4,
 "nbformat_minor": 2
}
